{
 "cells": [
  {
   "cell_type": "markdown",
   "id": "93e49785",
   "metadata": {},
   "source": [
    "## Setup"
   ]
  },
  {
   "cell_type": "code",
   "execution_count": 1,
   "id": "ab8c4997",
   "metadata": {},
   "outputs": [],
   "source": [
    "from utils import get_openai_api_key\n",
    "OPENAI_API_KEY = get_openai_api_key()\n",
    "llm_config = {\"model\": \"gpt-3.5-turbo\"}"
   ]
  },
  {
   "cell_type": "markdown",
   "id": "e42b8eed",
   "metadata": {},
   "source": [
    "## The task"
   ]
  },
  {
   "cell_type": "code",
   "execution_count": 6,
   "id": "80264e3d",
   "metadata": {},
   "outputs": [],
   "source": [
    "task = '''\n",
    "        Write a concise but engaging blogpost about\n",
    "        the benefits of AI. Make sure the blogpost is\n",
    "       within 100 words.\n",
    "       '''"
   ]
  },
  {
   "cell_type": "markdown",
   "id": "1258654b",
   "metadata": {},
   "source": [
    "## Create a writer agent"
   ]
  },
  {
   "cell_type": "code",
   "execution_count": 7,
   "id": "9e3bf06d",
   "metadata": {},
   "outputs": [],
   "source": [
    "import autogen\n",
    "\n",
    "writer = autogen.AssistantAgent(\n",
    "    name=\"Writer\",\n",
    "    system_message=\"You are a writer. You write engaging and concise \" \n",
    "        \"blogpost (with title) on given topics. You must polish your \"\n",
    "        \"writing based on the feedback you receive and give a refined \"\n",
    "        \"version. Only return your final work without additional comments.\",\n",
    "    llm_config=llm_config,\n",
    ")"
   ]
  },
  {
   "cell_type": "code",
   "execution_count": 8,
   "id": "6c731ef9",
   "metadata": {},
   "outputs": [],
   "source": [
    "reply = writer.generate_reply(messages=[{\"content\": task, \"role\": \"user\"}])"
   ]
  },
  {
   "cell_type": "code",
   "execution_count": 9,
   "id": "45c830a2",
   "metadata": {},
   "outputs": [
    {
     "name": "stdout",
     "output_type": "stream",
     "text": [
      "Title: Unleashing the Power of AI: A Game-Changer for Businesses\n",
      "\n",
      "In today's fast-paced world, Artificial Intelligence (AI) is revolutionizing industries across the globe. From enhancing customer experiences to optimizing operations, the benefits of AI are undeniable. It boosts productivity, saves time, and cuts costs, ultimately driving profitability. With AI's ability to analyze vast amounts of data swiftly, businesses can make informed decisions and stay ahead of the curve. Additionally, AI streamlines processes, improves accuracy, and even opens up new revenue streams. Embracing AI isn't just a trend; it's a strategic move that propels businesses into a future of innovation and success.\n"
     ]
    }
   ],
   "source": [
    "print(reply)"
   ]
  },
  {
   "cell_type": "markdown",
   "id": "90f7cc2a",
   "metadata": {},
   "source": [
    "## Adding Reflection"
   ]
  },
  {
   "cell_type": "code",
   "execution_count": 10,
   "id": "3dbc5330",
   "metadata": {},
   "outputs": [],
   "source": [
    "critic = autogen.AssistantAgent(\n",
    "    name=\"Critic\",\n",
    "    is_termination_msg=lambda x: x.get(\"content\", \"\").find(\"TERMINATE\") >= 0,\n",
    "    llm_config=llm_config,\n",
    "    system_message=\"You are a critic. You review the work of \"\n",
    "                \"the writer and provide constructive \"\n",
    "                \"feedback to help improve the quality of the content.\",\n",
    ")"
   ]
  },
  {
   "cell_type": "code",
   "execution_count": 11,
   "id": "735c3a87",
   "metadata": {},
   "outputs": [
    {
     "name": "stdout",
     "output_type": "stream",
     "text": [
      "\u001b[33mCritic\u001b[0m (to Writer):\n",
      "\n",
      "\n",
      "        Write a concise but engaging blogpost about\n",
      "        the benefits of AI. Make sure the blogpost is\n",
      "       within 100 words.\n",
      "       \n",
      "\n",
      "--------------------------------------------------------------------------------\n",
      "\u001b[33mWriter\u001b[0m (to Critic):\n",
      "\n",
      "Title: Unleashing the Power of AI: A Game-Changer for Businesses\n",
      "\n",
      "In today's fast-paced world, Artificial Intelligence (AI) is revolutionizing industries across the globe. From enhancing customer experiences to optimizing operations, the benefits of AI are undeniable. It boosts productivity, saves time, and cuts costs, ultimately driving profitability. With AI's ability to analyze vast amounts of data swiftly, businesses can make informed decisions and stay ahead of the curve. Additionally, AI streamlines processes, improves accuracy, and even opens up new revenue streams. Embracing AI isn't just a trend; it's a strategic move that propels businesses into a future of innovation and success.\n",
      "\n",
      "--------------------------------------------------------------------------------\n",
      "\u001b[33mCritic\u001b[0m (to Writer):\n",
      "\n",
      "The blog post \"Unleashing the Power of AI: A Game-Changer for Businesses\" effectively conveys the numerous benefits of Artificial Intelligence (AI) within a concise 100-word limit. The title is engaging and accurately sets the tone for the content. The post effectively highlights how AI enhances productivity, saves time, cuts costs, and drives profitability for businesses. However, to further improve the quality, consider providing a real-life example or statistic to strengthen the argument. Additionally, incorporating a concluding sentence that encourages readers to explore further applications or resources related to AI can enhance reader engagement. Overall, the post effectively communicates the benefits of AI in a succinct and engaging manner.\n",
      "\n",
      "--------------------------------------------------------------------------------\n",
      "\u001b[33mWriter\u001b[0m (to Critic):\n",
      "\n",
      "Title: Unleashing the Power of AI: A Game-Changer for Businesses\n",
      "\n",
      "In today's dynamic landscape, Artificial Intelligence (AI) stands out as a transformative force, reshaping industries globally. By swiftly analyzing vast datasets, AI empowers businesses to make informed decisions, boost productivity, and drive profitability. For instance, AI-powered chatbots have shown a 24/7 customer support increase by 40%. Embracing AI is not merely a choice but a strategic move towards innovation and success. The limitless potential of AI streamlines operations, enhances accuracy, and unlocks new revenue streams. Dive into the realm of AI - revolutionize your business for a future where possibilities are boundless.\n",
      "\n",
      "--------------------------------------------------------------------------------\n"
     ]
    }
   ],
   "source": [
    "res = critic.initiate_chat(\n",
    "    recipient=writer,\n",
    "    message=task,\n",
    "    max_turns=2,\n",
    "    summary_method=\"last_msg\"\n",
    ")"
   ]
  },
  {
   "cell_type": "markdown",
   "id": "e76e4d89",
   "metadata": {},
   "source": [
    "## Nested Chat"
   ]
  },
  {
   "cell_type": "code",
   "execution_count": 16,
   "id": "a920f7e8",
   "metadata": {},
   "outputs": [],
   "source": [
    "SEO_reviewer = autogen.AssistantAgent(\n",
    "    name=\"SEO Reviewer\",\n",
    "    llm_config=llm_config,\n",
    "    system_message=\"You are an SEO reviewer, known for \"\n",
    "        \"your ability to optimize content for search engines, \"\n",
    "        \"ensuring that it ranks well and attracts organic traffic. \" \n",
    "        \"Make sure your suggestion is concise (within 3 bullet points), \"\n",
    "        \"concrete and to the point. \"\n",
    "        \"Begin the review by stating your role.\",\n",
    ")"
   ]
  },
  {
   "cell_type": "code",
   "execution_count": 12,
   "id": "53d938ec",
   "metadata": {},
   "outputs": [],
   "source": [
    "legal_reviewer = autogen.AssistantAgent(\n",
    "    name=\"Legal Reviewer\",\n",
    "    llm_config=llm_config,\n",
    "    system_message=\"You are a legal reviewer, known for \"\n",
    "        \"your ability to ensure that content is legally compliant \"\n",
    "        \"and free from any potential legal issues. \"\n",
    "        \"Make sure your suggestion is concise (within 3 bullet points), \"\n",
    "        \"concrete and to the point. \"\n",
    "        \"Begin the review by stating your role.\",\n",
    ")"
   ]
  },
  {
   "cell_type": "code",
   "execution_count": 13,
   "id": "f2a453f4",
   "metadata": {},
   "outputs": [],
   "source": [
    "ethics_reviewer = autogen.AssistantAgent(\n",
    "    name=\"Ethics Reviewer\",\n",
    "    llm_config=llm_config,\n",
    "    system_message=\"You are an ethics reviewer, known for \"\n",
    "        \"your ability to ensure that content is ethically sound \"\n",
    "        \"and free from any potential ethical issues. \" \n",
    "        \"Make sure your suggestion is concise (within 3 bullet points), \"\n",
    "        \"concrete and to the point. \"\n",
    "        \"Begin the review by stating your role. \",\n",
    ")"
   ]
  },
  {
   "cell_type": "code",
   "execution_count": 14,
   "id": "bdc0f4b4",
   "metadata": {},
   "outputs": [],
   "source": [
    "meta_reviewer = autogen.AssistantAgent(\n",
    "    name=\"Meta Reviewer\",\n",
    "    llm_config=llm_config,\n",
    "    system_message=\"You are a meta reviewer, you aggragate and review \"\n",
    "    \"the work of other reviewers and give a final suggestion on the content.\",\n",
    ")"
   ]
  },
  {
   "cell_type": "markdown",
   "id": "4b271e8d",
   "metadata": {},
   "source": [
    "## Orchestrate the nested chats to solve the task"
   ]
  },
  {
   "cell_type": "code",
   "execution_count": 17,
   "id": "a8e5dbb5",
   "metadata": {},
   "outputs": [],
   "source": [
    "def reflection_message(recipient, messages, sender, config):\n",
    "    return f'''Review the following content. \n",
    "            \\n\\n {recipient.chat_messages_for_summary(sender)[-1]['content']}'''\n",
    "\n",
    "review_chats = [\n",
    "    {\n",
    "     \"recipient\": SEO_reviewer, \n",
    "     \"message\": reflection_message, \n",
    "     \"summary_method\": \"reflection_with_llm\",\n",
    "     \"summary_args\": {\"summary_prompt\" : \n",
    "        \"Return review into as JSON object only:\"\n",
    "        \"{'Reviewer': '', 'Review': ''}. Here Reviewer should be your role\",},\n",
    "     \"max_turns\": 1},\n",
    "    {\n",
    "    \"recipient\": legal_reviewer, \"message\": reflection_message, \n",
    "     \"summary_method\": \"reflection_with_llm\",\n",
    "     \"summary_args\": {\"summary_prompt\" : \n",
    "        \"Return review into as JSON object only:\"\n",
    "        \"{'Reviewer': '', 'Review': ''}.\",},\n",
    "     \"max_turns\": 1},\n",
    "    {\"recipient\": ethics_reviewer, \"message\": reflection_message, \n",
    "     \"summary_method\": \"reflection_with_llm\",\n",
    "     \"summary_args\": {\"summary_prompt\" : \n",
    "        \"Return review into as JSON object only:\"\n",
    "        \"{'reviewer': '', 'review': ''}\",},\n",
    "     \"max_turns\": 1},\n",
    "     {\"recipient\": meta_reviewer, \n",
    "      \"message\": \"Aggregrate feedback from all reviewers and give final suggestions on the writing.\", \n",
    "     \"max_turns\": 1},\n",
    "]\n"
   ]
  },
  {
   "cell_type": "code",
   "execution_count": 18,
   "id": "824d0380",
   "metadata": {},
   "outputs": [],
   "source": [
    "critic.register_nested_chats(\n",
    "    review_chats,\n",
    "    trigger=writer,\n",
    ")"
   ]
  },
  {
   "cell_type": "code",
   "execution_count": 19,
   "id": "592ba5d6",
   "metadata": {},
   "outputs": [
    {
     "name": "stdout",
     "output_type": "stream",
     "text": [
      "\u001b[33mCritic\u001b[0m (to Writer):\n",
      "\n",
      "\n",
      "        Write a concise but engaging blogpost about\n",
      "        the benefits of AI. Make sure the blogpost is\n",
      "       within 100 words.\n",
      "       \n",
      "\n",
      "--------------------------------------------------------------------------------\n",
      "\u001b[33mWriter\u001b[0m (to Critic):\n",
      "\n",
      "Title: Unleashing the Power of AI: A Game-Changer for Businesses\n",
      "\n",
      "In today's fast-paced world, Artificial Intelligence (AI) is revolutionizing industries across the globe. From enhancing customer experiences to optimizing operations, the benefits of AI are undeniable. It boosts productivity, saves time, and cuts costs, ultimately driving profitability. With AI's ability to analyze vast amounts of data swiftly, businesses can make informed decisions and stay ahead of the curve. Additionally, AI streamlines processes, improves accuracy, and even opens up new revenue streams. Embracing AI isn't just a trend; it's a strategic move that propels businesses into a future of innovation and success.\n",
      "\n",
      "--------------------------------------------------------------------------------\n",
      "\u001b[34m\n",
      "********************************************************************************\u001b[0m\n",
      "\u001b[34mStarting a new chat....\u001b[0m\n",
      "\u001b[34m\n",
      "********************************************************************************\u001b[0m\n",
      "\u001b[33mCritic\u001b[0m (to SEO Reviewer):\n",
      "\n",
      "Review the following content. \n",
      "            \n",
      "\n",
      " Title: Unleashing the Power of AI: A Game-Changer for Businesses\n",
      "\n",
      "In today's fast-paced world, Artificial Intelligence (AI) is revolutionizing industries across the globe. From enhancing customer experiences to optimizing operations, the benefits of AI are undeniable. It boosts productivity, saves time, and cuts costs, ultimately driving profitability. With AI's ability to analyze vast amounts of data swiftly, businesses can make informed decisions and stay ahead of the curve. Additionally, AI streamlines processes, improves accuracy, and even opens up new revenue streams. Embracing AI isn't just a trend; it's a strategic move that propels businesses into a future of innovation and success.\n",
      "\n",
      "--------------------------------------------------------------------------------\n",
      "\u001b[33mSEO Reviewer\u001b[0m (to Critic):\n",
      "\n",
      "As an SEO reviewer:\n",
      "\n",
      "- Consider incorporating specific keywords related to AI (e.g., artificial intelligence benefits, AI in business, AI optimization) throughout the content to improve search engine visibility.\n",
      "  \n",
      "- Utilize header tags (H2, H3) to break down the content into sections, making it more scannable for both readers and search engines.\n",
      "  \n",
      "- Add a meta description that includes key points like AI's benefits for businesses, to enhance the click-through rate from search engine results pages.\n",
      "\n",
      "--------------------------------------------------------------------------------\n",
      "\u001b[34m\n",
      "********************************************************************************\u001b[0m\n",
      "\u001b[34mStarting a new chat....\u001b[0m\n",
      "\u001b[34m\n",
      "********************************************************************************\u001b[0m\n",
      "\u001b[33mCritic\u001b[0m (to Legal Reviewer):\n",
      "\n",
      "Review the following content. \n",
      "            \n",
      "\n",
      " Title: Unleashing the Power of AI: A Game-Changer for Businesses\n",
      "\n",
      "In today's fast-paced world, Artificial Intelligence (AI) is revolutionizing industries across the globe. From enhancing customer experiences to optimizing operations, the benefits of AI are undeniable. It boosts productivity, saves time, and cuts costs, ultimately driving profitability. With AI's ability to analyze vast amounts of data swiftly, businesses can make informed decisions and stay ahead of the curve. Additionally, AI streamlines processes, improves accuracy, and even opens up new revenue streams. Embracing AI isn't just a trend; it's a strategic move that propels businesses into a future of innovation and success.\n",
      "Context: \n",
      "{'Reviewer': 'SEO Reviewer', 'Review': \"Consider incorporating specific keywords related to AI (e.g., artificial intelligence benefits, AI in business, AI optimization) throughout the content to improve search engine visibility. Utilize header tags (H2, H3) to break down the content into sections, making it more scannable for both readers and search engines. Add a meta description that includes key points like AI's benefits for businesses, to enhance the click-through rate from search engine results pages.\"}\n",
      "\n",
      "--------------------------------------------------------------------------------\n",
      "\u001b[33mLegal Reviewer\u001b[0m (to Critic):\n",
      "\n",
      "As a Legal Reviewer:\n",
      "\n",
      "1. Ensure that any claims made about AI benefits are supported by credible sources or data to avoid misleading readers.\n",
      "  \n",
      "2. Verify that any statements regarding AI technology comply with data privacy regulations to safeguard against potential legal issues.\n",
      "\n",
      "3. Double-check for any potential copyright infringement related to the use of specific AI terminology or concepts to prevent intellectual property disputes.\n",
      "\n",
      "--------------------------------------------------------------------------------\n",
      "\u001b[34m\n",
      "********************************************************************************\u001b[0m\n",
      "\u001b[34mStarting a new chat....\u001b[0m\n",
      "\u001b[34m\n",
      "********************************************************************************\u001b[0m\n",
      "\u001b[33mCritic\u001b[0m (to Ethics Reviewer):\n",
      "\n",
      "Review the following content. \n",
      "            \n",
      "\n",
      " Title: Unleashing the Power of AI: A Game-Changer for Businesses\n",
      "\n",
      "In today's fast-paced world, Artificial Intelligence (AI) is revolutionizing industries across the globe. From enhancing customer experiences to optimizing operations, the benefits of AI are undeniable. It boosts productivity, saves time, and cuts costs, ultimately driving profitability. With AI's ability to analyze vast amounts of data swiftly, businesses can make informed decisions and stay ahead of the curve. Additionally, AI streamlines processes, improves accuracy, and even opens up new revenue streams. Embracing AI isn't just a trend; it's a strategic move that propels businesses into a future of innovation and success.\n",
      "Context: \n",
      "{'Reviewer': 'SEO Reviewer', 'Review': \"Consider incorporating specific keywords related to AI (e.g., artificial intelligence benefits, AI in business, AI optimization) throughout the content to improve search engine visibility. Utilize header tags (H2, H3) to break down the content into sections, making it more scannable for both readers and search engines. Add a meta description that includes key points like AI's benefits for businesses, to enhance the click-through rate from search engine results pages.\"}\n",
      "{'Reviewer': 'SEO Reviewer', 'Review': \"Consider incorporating specific keywords related to AI (e.g., artificial intelligence benefits, AI in business, AI optimization) throughout the content to improve search engine visibility. Utilize header tags (H2, H3) to break down the content into sections, making it more scannable for both readers and search engines. Add a meta description that includes key points like AI's benefits for businesses, to enhance the click-through rate from search engine results pages.\"}\n",
      "\n",
      "--------------------------------------------------------------------------------\n",
      "\u001b[33mEthics Reviewer\u001b[0m (to Critic):\n",
      "\n",
      "As an ethics reviewer, my role is to ensure that the content is ethically sound and free from any potential issues. \n",
      "\n",
      "- This content does not contain any specific ethical issues. \n",
      "- Ensure accurate representation of AI benefits and functionalities to avoid misleading claims. \n",
      "- Provide transparency about potential limitations or ethical considerations associated with the use of AI in business.\n",
      "\n",
      "--------------------------------------------------------------------------------\n",
      "\u001b[34m\n",
      "********************************************************************************\u001b[0m\n",
      "\u001b[34mStarting a new chat....\u001b[0m\n",
      "\u001b[34m\n",
      "********************************************************************************\u001b[0m\n",
      "\u001b[33mCritic\u001b[0m (to Meta Reviewer):\n",
      "\n",
      "Aggregrate feedback from all reviewers and give final suggestions on the writing.\n",
      "Context: \n",
      "{'Reviewer': 'SEO Reviewer', 'Review': \"Consider incorporating specific keywords related to AI (e.g., artificial intelligence benefits, AI in business, AI optimization) throughout the content to improve search engine visibility. Utilize header tags (H2, H3) to break down the content into sections, making it more scannable for both readers and search engines. Add a meta description that includes key points like AI's benefits for businesses, to enhance the click-through rate from search engine results pages.\"}\n",
      "{'Reviewer': 'SEO Reviewer', 'Review': \"Consider incorporating specific keywords related to AI (e.g., artificial intelligence benefits, AI in business, AI optimization) throughout the content to improve search engine visibility. Utilize header tags (H2, H3) to break down the content into sections, making it more scannable for both readers and search engines. Add a meta description that includes key points like AI's benefits for businesses, to enhance the click-through rate from search engine results pages.\"}\n",
      "{'reviewer': 'Ethics Reviewer', 'review': 'This content does not contain any specific ethical issues. Ensure accurate representation of AI benefits and functionalities to avoid misleading claims. Provide transparency about potential limitations or ethical considerations associated with the use of AI in business.'}\n"
     ]
    },
    {
     "name": "stdout",
     "output_type": "stream",
     "text": [
      "\n",
      "--------------------------------------------------------------------------------\n",
      "\u001b[33mMeta Reviewer\u001b[0m (to Critic):\n",
      "\n",
      "Aggregated Feedback:\n",
      "1. SEO Reviewers (both) suggested incorporating specific keywords related to AI throughout the content for better search engine visibility. They also recommended utilizing header tags to organize the content and adding a meta description focusing on AI benefits for businesses.\n",
      "2. The Ethics Reviewer did not identify any specific ethical issues but emphasized the importance of accurate representation of AI benefits and functionalities to prevent misleading claims. Transparency about potential limitations and ethical considerations when using AI in business was also advised.\n",
      "\n",
      "Final Suggestions on the Writing:\n",
      "1. Incorporate specific AI-related keywords as suggested by the SEO Reviewers to improve search engine visibility.\n",
      "2. Use header tags (H2, H3) to structure the content, making it more reader-friendly and SEO-friendly.\n",
      "3. Include a meta description highlighting AI benefits for businesses to increase click-through rates from search engine results pages.\n",
      "4. Ensure accurate representation of AI benefits and functionalities to avoid any misleading claims, as advised by the Ethics Reviewer.\n",
      "5. Provide transparency about potential limitations and ethical considerations associated with the use of AI in business to address ethical concerns.\n",
      "\n",
      "In conclusion, by implementing these suggestions, the content can enhance its SEO performance, readability, and ethical compliance.\n",
      "\n",
      "--------------------------------------------------------------------------------\n",
      "\u001b[33mCritic\u001b[0m (to Writer):\n",
      "\n",
      "Aggregated Feedback:\n",
      "1. SEO Reviewers (both) suggested incorporating specific keywords related to AI throughout the content for better search engine visibility. They also recommended utilizing header tags to organize the content and adding a meta description focusing on AI benefits for businesses.\n",
      "2. The Ethics Reviewer did not identify any specific ethical issues but emphasized the importance of accurate representation of AI benefits and functionalities to prevent misleading claims. Transparency about potential limitations and ethical considerations when using AI in business was also advised.\n",
      "\n",
      "Final Suggestions on the Writing:\n",
      "1. Incorporate specific AI-related keywords as suggested by the SEO Reviewers to improve search engine visibility.\n",
      "2. Use header tags (H2, H3) to structure the content, making it more reader-friendly and SEO-friendly.\n",
      "3. Include a meta description highlighting AI benefits for businesses to increase click-through rates from search engine results pages.\n",
      "4. Ensure accurate representation of AI benefits and functionalities to avoid any misleading claims, as advised by the Ethics Reviewer.\n",
      "5. Provide transparency about potential limitations and ethical considerations associated with the use of AI in business to address ethical concerns.\n",
      "\n",
      "In conclusion, by implementing these suggestions, the content can enhance its SEO performance, readability, and ethical compliance.\n",
      "\n",
      "--------------------------------------------------------------------------------\n",
      "\u001b[33mWriter\u001b[0m (to Critic):\n",
      "\n",
      "Title: Unlocking Business Success: The Transformational Power of AI\n",
      "\n",
      "In the digital era, Artificial Intelligence (AI) emerges as a pivotal tool, reshaping industries worldwide. AI optimizes operations, enhances customer experiences, and accelerates growth. Its capacity to swiftly analyze vast data sets empowers businesses to make strategic decisions, gain competitive edges, and boost profitability. Through streamlined processes and elevated accuracy, AI paves the way for revenue diversification. Embracing AI isn't just a strategy; it's a leap towards innovative success. Let's delve into the profound benefits AI offers, manifesting a future where businesses thrive amidst constant evolution.\n",
      "\n",
      "--------------------------------------------------------------------------------\n"
     ]
    }
   ],
   "source": [
    "res = critic.initiate_chat(\n",
    "    recipient=writer,\n",
    "    message=task,\n",
    "    max_turns=2,\n",
    "    summary_method=\"last_msg\"\n",
    ")"
   ]
  },
  {
   "cell_type": "markdown",
   "id": "4bf61b57",
   "metadata": {},
   "source": [
    "## Summary"
   ]
  },
  {
   "cell_type": "code",
   "execution_count": 20,
   "id": "d4fd8a7a",
   "metadata": {},
   "outputs": [
    {
     "name": "stdout",
     "output_type": "stream",
     "text": [
      "Title: Unlocking Business Success: The Transformational Power of AI\n",
      "\n",
      "In the digital era, Artificial Intelligence (AI) emerges as a pivotal tool, reshaping industries worldwide. AI optimizes operations, enhances customer experiences, and accelerates growth. Its capacity to swiftly analyze vast data sets empowers businesses to make strategic decisions, gain competitive edges, and boost profitability. Through streamlined processes and elevated accuracy, AI paves the way for revenue diversification. Embracing AI isn't just a strategy; it's a leap towards innovative success. Let's delve into the profound benefits AI offers, manifesting a future where businesses thrive amidst constant evolution.\n"
     ]
    }
   ],
   "source": [
    "print(res.summary)"
   ]
  }
 ],
 "metadata": {
  "kernelspec": {
   "display_name": "Python 3 (ipykernel)",
   "language": "python",
   "name": "python3"
  },
  "language_info": {
   "codemirror_mode": {
    "name": "ipython",
    "version": 3
   },
   "file_extension": ".py",
   "mimetype": "text/x-python",
   "name": "python",
   "nbconvert_exporter": "python",
   "pygments_lexer": "ipython3",
   "version": "3.11.3"
  }
 },
 "nbformat": 4,
 "nbformat_minor": 5
}
